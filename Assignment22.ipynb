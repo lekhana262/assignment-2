{
 "cells": [
  {
   "cell_type": "markdown",
   "metadata": {},
   "source": [
    "# To check equal or not"
   ]
  },
  {
   "cell_type": "code",
   "execution_count": null,
   "metadata": {},
   "outputs": [],
   "source": [
    " a=input('Enter a number')\n",
    "b=input('Enter a number')\n",
    "if(a==b):\n",
    "    print('The given number are equal')\n",
    "else:\n",
    "    print('The given number are not equal')"
   ]
  },
  {
   "cell_type": "markdown",
   "metadata": {},
   "source": [
    "# Adding two numbers"
   ]
  },
  {
   "cell_type": "code",
   "execution_count": 8,
   "metadata": {},
   "outputs": [
    {
     "name": "stdout",
     "output_type": "stream",
     "text": [
      "Enter a number5\n",
      "Enter a number7\n",
      "12\n"
     ]
    }
   ],
   "source": [
    "a=int(input('Enter a number'))\n",
    "b=int(input('Enter a number'))\n",
    "c=a+b\n",
    "print(c)"
   ]
  },
  {
   "cell_type": "markdown",
   "metadata": {},
   "source": [
    "# Square root"
   ]
  },
  {
   "cell_type": "code",
   "execution_count": 5,
   "metadata": {},
   "outputs": [
    {
     "name": "stdout",
     "output_type": "stream",
     "text": [
      "Enter a number16\n",
      "16 4.0\n"
     ]
    }
   ],
   "source": [
    "a=int(input('Enter a number'))\n",
    "a_sqrt=a**0.5\n",
    "print(a,a_sqrt)"
   ]
  },
  {
   "cell_type": "markdown",
   "metadata": {},
   "source": [
    "# Input to display name of user"
   ]
  },
  {
   "cell_type": "code",
   "execution_count": 7,
   "metadata": {},
   "outputs": [
    {
     "name": "stdout",
     "output_type": "stream",
     "text": [
      "Enter your nameNihu\n",
      "Hello Nihu\n"
     ]
    }
   ],
   "source": [
    "a=('Hello')\n",
    "b=input('Enter your name')\n",
    "print(a,b)"
   ]
  },
  {
   "cell_type": "code",
   "execution_count": 13,
   "metadata": {},
   "outputs": [
    {
     "name": "stdout",
     "output_type": "stream",
     "text": [
      "Enter the hours35\n",
      "Enter the rate2.75\n",
      "The amount to be payed is 96.250000\n"
     ]
    }
   ],
   "source": [
    "hours=float(input('Enter the hours'))\n",
    "rate= float(input('Enter the rate'))\n",
    "pay=hours*rate\n",
    "print('The amount to be payed is %2f'%pay)"
   ]
  },
  {
   "cell_type": "code",
   "execution_count": 14,
   "metadata": {},
   "outputs": [
    {
     "name": "stdout",
     "output_type": "stream",
     "text": [
      "8\n",
      "8.0\n",
      "4.0\n",
      "11\n"
     ]
    }
   ],
   "source": [
    "width=17\n",
    "height=12.0\n",
    "a=width//2\n",
    "b=width//2.0\n",
    "c=height/3\n",
    "d=1+2*5\n",
    "print(a)\n",
    "print(b)\n",
    "print(c)\n",
    "print(d)"
   ]
  },
  {
   "cell_type": "code",
   "execution_count": null,
   "metadata": {},
   "outputs": [],
   "source": []
  }
 ],
 "metadata": {
  "kernelspec": {
   "display_name": "Python 3",
   "language": "python",
   "name": "python3"
  },
  "language_info": {
   "codemirror_mode": {
    "name": "ipython",
    "version": 3
   },
   "file_extension": ".py",
   "mimetype": "text/x-python",
   "name": "python",
   "nbconvert_exporter": "python",
   "pygments_lexer": "ipython3",
   "version": "3.7.6"
  }
 },
 "nbformat": 4,
 "nbformat_minor": 4
}
